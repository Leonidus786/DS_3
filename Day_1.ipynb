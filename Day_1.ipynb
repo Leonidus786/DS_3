{
 "cells": [
  {
   "cell_type": "code",
   "execution_count": 7,
   "id": "bac05276-7fa9-4b8e-860a-982266c4efc9",
   "metadata": {},
   "outputs": [
    {
     "name": "stdout",
     "output_type": "stream",
     "text": [
      "Hello World!\n"
     ]
    }
   ],
   "source": [
    "print(\"Hello World!\")"
   ]
  },
  {
   "cell_type": "code",
   "execution_count": 2,
   "id": "db8d4cd0-a6c4-47ed-b959-0a237763f67b",
   "metadata": {},
   "outputs": [
    {
     "name": "stdout",
     "output_type": "stream",
     "text": [
      "Prabhjot\n"
     ]
    }
   ],
   "source": [
    "# Output Function -- print()\n",
    "\n",
    "print(\"Prabhjot\")"
   ]
  },
  {
   "cell_type": "code",
   "execution_count": 3,
   "id": "b95e9b42-8363-4869-ba24-0bf42d4cd45d",
   "metadata": {},
   "outputs": [],
   "source": [
    "# Input Function --> input()"
   ]
  },
  {
   "cell_type": "code",
   "execution_count": 4,
   "id": "f8270858-3f00-4a23-a947-6ba8d29c7347",
   "metadata": {},
   "outputs": [
    {
     "name": "stdin",
     "output_type": "stream",
     "text": [
      "What is your name?  Prabhjot\n"
     ]
    },
    {
     "data": {
      "text/plain": [
       "'Prabhjot'"
      ]
     },
     "execution_count": 4,
     "metadata": {},
     "output_type": "execute_result"
    }
   ],
   "source": [
    "input(\"What is your name? \")"
   ]
  },
  {
   "cell_type": "code",
   "execution_count": 9,
   "id": "0746e55f-c98c-4c94-990f-d0a673402170",
   "metadata": {},
   "outputs": [
    {
     "name": "stdin",
     "output_type": "stream",
     "text": [
      "Please Enter your age?  30\n"
     ]
    },
    {
     "data": {
      "text/plain": [
       "'30'"
      ]
     },
     "execution_count": 9,
     "metadata": {},
     "output_type": "execute_result"
    }
   ],
   "source": [
    "input(\"Please Enter your age? \")"
   ]
  },
  {
   "cell_type": "code",
   "execution_count": 6,
   "id": "4ec727d4-ab5b-42b0-becb-efdae9043c12",
   "metadata": {},
   "outputs": [
    {
     "name": "stdout",
     "output_type": "stream",
     "text": [
      "Your Age is 30\n"
     ]
    }
   ],
   "source": [
    "print(\"Your Age is 30\")"
   ]
  },
  {
   "cell_type": "code",
   "execution_count": 8,
   "id": "e11ba46c-0b0b-42f2-b0cb-f93a2c9c092c",
   "metadata": {},
   "outputs": [],
   "source": [
    "# Two types of programming language -->\n",
    "# 1. Compiled Language --> code runs and then converted to .exe files so computer can understand\n",
    "# 2. Interpreted Language --> code runs and converted at the same time."
   ]
  },
  {
   "cell_type": "code",
   "execution_count": 10,
   "id": "bfbebe26-e1cf-425d-84e7-6ec00fd2696d",
   "metadata": {},
   "outputs": [],
   "source": [
    "# Quotes --> \"\"/ '' \n",
    "# Whatever you are going to put inside these quotes will be treated as strings."
   ]
  },
  {
   "cell_type": "code",
   "execution_count": 14,
   "id": "6151c1d4-8461-4c22-8bf8-26bcfe90a435",
   "metadata": {},
   "outputs": [
    {
     "name": "stdout",
     "output_type": "stream",
     "text": [
      "4\n"
     ]
    }
   ],
   "source": [
    "# Strings --> Set of characters/ Array of characters.\n",
    "# \"Prabh\"\n",
    "# 'New Delhi'\n",
    "\n",
    "\n",
    "print(len(\"Amit\"))"
   ]
  },
  {
   "cell_type": "code",
   "execution_count": 15,
   "id": "d01ddfab-4302-44d8-9330-957c40d85434",
   "metadata": {},
   "outputs": [
    {
     "name": "stdout",
     "output_type": "stream",
     "text": [
      "Amit\n"
     ]
    }
   ],
   "source": [
    "a = \"Amit\"\n",
    "print(a)"
   ]
  },
  {
   "cell_type": "code",
   "execution_count": 16,
   "id": "63f30e4a-b84b-4de5-8845-5957aff09ca2",
   "metadata": {},
   "outputs": [
    {
     "name": "stdout",
     "output_type": "stream",
     "text": [
      "4\n"
     ]
    }
   ],
   "source": [
    "print(len(a))"
   ]
  },
  {
   "cell_type": "code",
   "execution_count": 17,
   "id": "974ccc9a-35be-4772-a624-2f485c7c9a6c",
   "metadata": {},
   "outputs": [
    {
     "name": "stdout",
     "output_type": "stream",
     "text": [
      "Hello World!\n",
      "Hello World!\n",
      "Hello World!\n"
     ]
    }
   ],
   "source": [
    "print(\"Hello World!\")\n",
    "print(\"Hello World!\")\n",
    "print(\"Hello World!\")"
   ]
  },
  {
   "cell_type": "code",
   "execution_count": 18,
   "id": "6b77cd7b-1288-44b9-879d-eb8c0236f460",
   "metadata": {},
   "outputs": [
    {
     "name": "stdout",
     "output_type": "stream",
     "text": [
      "Hello World!\n",
      "Hello World!\n",
      "Hello World!\n"
     ]
    }
   ],
   "source": [
    "print(\"Hello World!\\nHello World!\\nHello World!\")"
   ]
  },
  {
   "cell_type": "code",
   "execution_count": 19,
   "id": "4c1e5679-0497-45f3-9d15-d153534599c1",
   "metadata": {},
   "outputs": [],
   "source": [
    "# \\n --> Move your cursor to the next line"
   ]
  },
  {
   "cell_type": "code",
   "execution_count": 24,
   "id": "7d68fb01-37a1-4f6f-8820-28a32405e3e0",
   "metadata": {},
   "outputs": [
    {
     "name": "stdout",
     "output_type": "stream",
     "text": [
      "helloworld\n"
     ]
    }
   ],
   "source": [
    "# Adding two strings ---> Concatenate more than one string together.\n",
    "print(\"hello\" + \"world\")"
   ]
  },
  {
   "cell_type": "code",
   "execution_count": 21,
   "id": "6ec58be2-7c4e-48a4-918d-c4cf3f69f176",
   "metadata": {},
   "outputs": [
    {
     "name": "stdout",
     "output_type": "stream",
     "text": [
      "hello world\n"
     ]
    }
   ],
   "source": [
    "print(\"hello \" + \"world\")"
   ]
  },
  {
   "cell_type": "code",
   "execution_count": 22,
   "id": "092b3325-aa68-4b58-8eb2-802a5e267c67",
   "metadata": {},
   "outputs": [
    {
     "name": "stdout",
     "output_type": "stream",
     "text": [
      "hello world\n"
     ]
    }
   ],
   "source": [
    "print(\"hello\" + \" world\")"
   ]
  },
  {
   "cell_type": "code",
   "execution_count": 23,
   "id": "05b9e91d-efa2-4264-88bd-0c84eb05166d",
   "metadata": {},
   "outputs": [
    {
     "name": "stdout",
     "output_type": "stream",
     "text": [
      "hello world\n"
     ]
    }
   ],
   "source": [
    "print(\"hello\" +\" \"+\"world\")"
   ]
  }
 ],
 "metadata": {
  "kernelspec": {
   "display_name": "Python 3 (ipykernel)",
   "language": "python",
   "name": "python3"
  },
  "language_info": {
   "codemirror_mode": {
    "name": "ipython",
    "version": 3
   },
   "file_extension": ".py",
   "mimetype": "text/x-python",
   "name": "python",
   "nbconvert_exporter": "python",
   "pygments_lexer": "ipython3",
   "version": "3.11.7"
  }
 },
 "nbformat": 4,
 "nbformat_minor": 5
}
