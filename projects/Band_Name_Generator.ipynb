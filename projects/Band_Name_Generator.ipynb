{
 "cells": [
  {
   "cell_type": "code",
   "execution_count": 1,
   "id": "5976e4a0-8086-4a87-badb-0e85084d4d49",
   "metadata": {},
   "outputs": [],
   "source": [
    "#1. Create a greeting for your program.\n",
    "\n",
    "#2. Ask the user for the city that they grew up in.\n",
    "\n",
    "#3. Ask the user for the name of a pet.\n",
    "\n",
    "#4. Combine the name of their city and pet and show them their band name.\n",
    "\n",
    "#5. Make sure the input cursor shows on a new line."
   ]
  },
  {
   "cell_type": "code",
   "execution_count": 2,
   "id": "de73e439-2ba2-449e-8b7f-fe97e1bedc87",
   "metadata": {},
   "outputs": [
    {
     "name": "stdout",
     "output_type": "stream",
     "text": [
      "Welcome to Band Name Generator\n"
     ]
    },
    {
     "name": "stdin",
     "output_type": "stream",
     "text": [
      "In which city you grew up?\n",
      " Siwan\n",
      "What is your pet's name?\n",
      " Jack\n"
     ]
    },
    {
     "name": "stdout",
     "output_type": "stream",
     "text": [
      "Your band name should be: Siwan Jack\n"
     ]
    }
   ],
   "source": [
    "#1. Create a greeting for your program.\n",
    "print(\"Welcome to Band Name Generator\")\n",
    "\n",
    "#2. Ask the user for the city that they grew up in.\n",
    "city = input(\"In which city you grew up?\\n\")\n",
    "\n",
    "#3. Ask the user for the name of a pet.\n",
    "pet = input(\"What is your pet's name?\\n\")\n",
    "\n",
    "#4. Combine the name of their city and pet and show them their band name.\n",
    "\n",
    "band_name = city +\" \"+ pet\n",
    "\n",
    "print(\"Your band name should be:\",band_name)"
   ]
  }
 ],
 "metadata": {
  "kernelspec": {
   "display_name": "Python 3 (ipykernel)",
   "language": "python",
   "name": "python3"
  },
  "language_info": {
   "codemirror_mode": {
    "name": "ipython",
    "version": 3
   },
   "file_extension": ".py",
   "mimetype": "text/x-python",
   "name": "python",
   "nbconvert_exporter": "python",
   "pygments_lexer": "ipython3",
   "version": "3.11.7"
  }
 },
 "nbformat": 4,
 "nbformat_minor": 5
}
